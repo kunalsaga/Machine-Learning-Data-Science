{
 "cells": [
  {
   "cell_type": "markdown",
   "id": "3c0c1d57",
   "metadata": {},
   "source": [
    "# Predicting Boston Housing Prices"
   ]
  },
  {
   "cell_type": "markdown",
   "id": "4ab909fe",
   "metadata": {},
   "source": [
    "\n",
    "This project was completed as a part of the Machine Learning Engineer Nanodegree from ETL-Hive.\n",
    "\n",
    "In this project, we will evaluate the performance and predictive power of a model that has been trained and tested on data collected from homes in suburbs of Boston, Massachusetts. A model trained on this data that is seen as a good fit could then be used to make certain predictions about a home's monetary value.\n",
    "\n",
    "The dataset for this project originates from the [UCI Machine Learning Repository](https://archive.ics.uci.edu/ml/datasets/Housing ) The Boston housing data was collected in 1978 and each of the 506 entries represent aggregated data about 14 features for homes from various suburbs in Boston, Massachusetts.\n",
    "\n"
   ]
  },
  {
   "cell_type": "raw",
   "id": "71b24fbd",
   "metadata": {},
   "source": [
    "For the purposes of this project, the following preprocessing steps have been made to the dataset:\n",
    "    •6 data points have an 'MEDV' value of 50.0. These data points likely contain missing or censored values and have been removed.\n",
    "    •1 data point has an 'RM' value of 8.78. This data point can be considered an outlier and has been removed.\n",
    "    •The features 'RM', 'LSTAT', 'PTRATIO', and 'MEDV' are essential. The remaining non-relevant features have been excluded.\n",
    "    •The feature 'MEDV' has been multiplicatively scaled to account for 35 years of market inflation.\n",
    "  "
   ]
  },
  {
   "cell_type": "markdown",
   "id": "71cc3eae",
   "metadata": {},
   "source": [
    "We'll start with the reading in the data, and separating the features and prices for homes into different pandas dataframes."
   ]
  },
  {
   "cell_type": "code",
   "execution_count": 23,
   "id": "f114b3d4",
   "metadata": {},
   "outputs": [
    {
     "name": "stdout",
     "output_type": "stream",
     "text": [
      "Boston housing dataset has 506 data points with 14 variables each.\n"
     ]
    }
   ],
   "source": [
    "# Importing libraries necessary for this project\n",
    "import numpy as np\n",
    "import pandas as pd\n",
    "from sklearn.model_selection import ShuffleSplit\n",
    "\n",
    "\n",
    "# Pretty display for notebooks\n",
    "%matplotlib inline\n",
    "\n",
    "# Load the Boston housing dataset\n",
    "data = pd.read_csv('housing.csv')\n",
    "prices = data['MEDV']\n",
    "features = data.drop('MEDV', axis = 1)\n",
    "    \n",
    "# Success\n",
    "print (\"Boston housing dataset has {} data points with {} variables each.\".format(*data.shape))"
   ]
  },
  {
   "cell_type": "code",
   "execution_count": null,
   "id": "7c2d0242",
   "metadata": {},
   "outputs": [],
   "source": []
  }
 ],
 "metadata": {
  "kernelspec": {
   "display_name": "Python 3 (ipykernel)",
   "language": "python",
   "name": "python3"
  },
  "language_info": {
   "codemirror_mode": {
    "name": "ipython",
    "version": 3
   },
   "file_extension": ".py",
   "mimetype": "text/x-python",
   "name": "python",
   "nbconvert_exporter": "python",
   "pygments_lexer": "ipython3",
   "version": "3.8.11"
  }
 },
 "nbformat": 4,
 "nbformat_minor": 5
}
